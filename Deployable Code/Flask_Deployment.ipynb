{
  "nbformat": 4,
  "nbformat_minor": 0,
  "metadata": {
    "colab": {
      "name": "Flask_Deployment.ipynb",
      "provenance": [],
      "collapsed_sections": []
    },
    "kernelspec": {
      "name": "python3",
      "display_name": "Python 3"
    },
    "accelerator": "GPU"
  },
  "cells": [
    {
      "cell_type": "code",
      "metadata": {
        "colab": {
          "base_uri": "https://localhost:8080/"
        },
        "id": "CXJ_lpvZ0KmS",
        "outputId": "f06c6376-f554-4a38-ceb0-2da31effab7d"
      },
      "source": [
        "from google.colab import drive\r\n",
        "drive.mount('/content/drive')"
      ],
      "execution_count": 1,
      "outputs": [
        {
          "output_type": "stream",
          "text": [
            "Mounted at /content/drive\n"
          ],
          "name": "stdout"
        }
      ]
    },
    {
      "cell_type": "code",
      "metadata": {
        "colab": {
          "base_uri": "https://localhost:8080/"
        },
        "id": "d1daFENT0_VY",
        "outputId": "6143b819-2696-4a53-a245-87c9e189c62d"
      },
      "source": [
        "!pip install flask-ngrok"
      ],
      "execution_count": 2,
      "outputs": [
        {
          "output_type": "stream",
          "text": [
            "Collecting flask-ngrok\n",
            "  Downloading https://files.pythonhosted.org/packages/af/6c/f54cb686ad1129e27d125d182f90f52b32f284e6c8df58c1bae54fa1adbc/flask_ngrok-0.0.25-py3-none-any.whl\n",
            "Requirement already satisfied: Flask>=0.8 in /usr/local/lib/python3.6/dist-packages (from flask-ngrok) (1.1.2)\n",
            "Requirement already satisfied: requests in /usr/local/lib/python3.6/dist-packages (from flask-ngrok) (2.23.0)\n",
            "Requirement already satisfied: itsdangerous>=0.24 in /usr/local/lib/python3.6/dist-packages (from Flask>=0.8->flask-ngrok) (1.1.0)\n",
            "Requirement already satisfied: Jinja2>=2.10.1 in /usr/local/lib/python3.6/dist-packages (from Flask>=0.8->flask-ngrok) (2.11.2)\n",
            "Requirement already satisfied: click>=5.1 in /usr/local/lib/python3.6/dist-packages (from Flask>=0.8->flask-ngrok) (7.1.2)\n",
            "Requirement already satisfied: Werkzeug>=0.15 in /usr/local/lib/python3.6/dist-packages (from Flask>=0.8->flask-ngrok) (1.0.1)\n",
            "Requirement already satisfied: idna<3,>=2.5 in /usr/local/lib/python3.6/dist-packages (from requests->flask-ngrok) (2.10)\n",
            "Requirement already satisfied: chardet<4,>=3.0.2 in /usr/local/lib/python3.6/dist-packages (from requests->flask-ngrok) (3.0.4)\n",
            "Requirement already satisfied: certifi>=2017.4.17 in /usr/local/lib/python3.6/dist-packages (from requests->flask-ngrok) (2020.11.8)\n",
            "Requirement already satisfied: urllib3!=1.25.0,!=1.25.1,<1.26,>=1.21.1 in /usr/local/lib/python3.6/dist-packages (from requests->flask-ngrok) (1.24.3)\n",
            "Requirement already satisfied: MarkupSafe>=0.23 in /usr/local/lib/python3.6/dist-packages (from Jinja2>=2.10.1->Flask>=0.8->flask-ngrok) (1.1.1)\n",
            "Installing collected packages: flask-ngrok\n",
            "Successfully installed flask-ngrok-0.0.25\n"
          ],
          "name": "stdout"
        }
      ]
    },
    {
      "cell_type": "code",
      "metadata": {
        "id": "r9ASSbmO1kbL"
      },
      "source": [
        "!unzip -q 'final_deployment.zip'"
      ],
      "execution_count": 3,
      "outputs": []
    },
    {
      "cell_type": "markdown",
      "metadata": {
        "id": "jTcOL1-zTmgh"
      },
      "source": [
        "# **Final Deployment**\r\n"
      ]
    },
    {
      "cell_type": "code",
      "metadata": {
        "colab": {
          "base_uri": "https://localhost:8080/"
        },
        "id": "7RLVWZnmTp1Y",
        "outputId": "3e6c4b20-b196-4b8b-be5a-613c30e184d3"
      },
      "source": [
        "from __future__ import division, print_function\r\n",
        "# Flask utils\r\n",
        "from flask_ngrok import run_with_ngrok\r\n",
        "from flask import Flask, request, redirect, url_for, render_template\r\n",
        "from werkzeug.utils import secure_filename\r\n",
        "# \r\n",
        "import io\r\n",
        "import os \r\n",
        "import matplotlib.pyplot as plt \r\n",
        "import tensorflow as tf \r\n",
        "import numpy as np \r\n",
        "\r\n",
        "try:\r\n",
        "    print(\"in try\")\r\n",
        "    from PIL import Image\r\n",
        "except ImportError:\r\n",
        "    print(\"in except\")\r\n",
        "    import Image\r\n",
        "\r\n",
        "from utils import read_image\r\n",
        "from model import build_model\r\n",
        "from inference import inference \r\n",
        "\r\n",
        "# Define a flask \r\n",
        "app = Flask(__name__)\r\n",
        "\r\n",
        "run_with_ngrok(app)\r\n",
        "\r\n",
        "weights_path = '/content/drive/MyDrive/27_Case_study_2/best_Double_Unet.hdf5'\r\n",
        "inf = inference(weights_path)\r\n",
        "\r\n",
        "@app.route('/', methods=['GET', 'POST']) \r\n",
        "def main_page():\r\n",
        "    if request.method == 'POST':\r\n",
        "        file = request.files['file']\r\n",
        "        filename = secure_filename(file.filename)\r\n",
        "        file.save(os.path.join('uploads', filename))\r\n",
        "        return redirect(url_for('prediction', filename=filename))\r\n",
        "    return render_template('index.html')\r\n",
        "\r\n",
        "\r\n",
        "@app.route('/prediction/<filename>') \r\n",
        "def prediction(filename):\r\n",
        "\r\n",
        "    # Make prediction\r\n",
        "    image_path = filename\r\n",
        "    \r\n",
        "    preds = inf.Predict(image_path, plot=False)\r\n",
        "\r\n",
        "    pred_mask = np.squeeze(preds[:,:,:,1])\r\n",
        "\r\n",
        "    plt.imsave('predicted_mask.png', pred_mask)\r\n",
        "\r\n",
        "    background = Image.open(image_path)\r\n",
        "    overlay = Image.open('predicted_mask.png')\r\n",
        "\r\n",
        "    background = background.convert(\"RGBA\")\r\n",
        "    overlay = overlay.convert(\"RGBA\")\r\n",
        "\r\n",
        "    new_img = Image.blend(background, overlay, 0.3)\r\n",
        "    new_img.save(\"/content/drive/MyDrive/27_Case_study_2/Output.png\",\"PNG\")\r\n",
        "\r\n",
        "\r\n",
        "    # def plot_png():\r\n",
        "    # fig = create_figure()\r\n",
        "    # output = io.BytesIO()\r\n",
        "    # FigureCanvas(fig).print_png(output)\r\n",
        "    # return Response(output.getvalue(), mimetype='image/png')\r\n",
        "\r\n",
        "    return render_template('base.html')\r\n",
        "if __name__ == '__main__':\r\n",
        "    app.run()"
      ],
      "execution_count": 4,
      "outputs": [
        {
          "output_type": "stream",
          "text": [
            "in try\n",
            "Downloading data from https://storage.googleapis.com/tensorflow/keras-applications/vgg19/vgg19_weights_tf_dim_ordering_tf_kernels_notop.h5\n",
            "80142336/80134624 [==============================] - 1s 0us/step\n",
            " * Serving Flask app \"__main__\" (lazy loading)\n",
            " * Environment: production\n",
            "\u001b[31m   WARNING: This is a development server. Do not use it in a production deployment.\u001b[0m\n",
            "\u001b[2m   Use a production WSGI server instead.\u001b[0m\n",
            " * Debug mode: off\n"
          ],
          "name": "stdout"
        },
        {
          "output_type": "stream",
          "text": [
            " * Running on http://127.0.0.1:5000/ (Press CTRL+C to quit)\n"
          ],
          "name": "stderr"
        },
        {
          "output_type": "stream",
          "text": [
            " * Running on http://9b3eef49c308.ngrok.io\n",
            " * Traffic stats available on http://127.0.0.1:4040\n"
          ],
          "name": "stdout"
        },
        {
          "output_type": "stream",
          "text": [
            "127.0.0.1 - - [10/Dec/2020 07:46:16] \"\u001b[37mGET / HTTP/1.1\u001b[0m\" 200 -\n",
            "127.0.0.1 - - [10/Dec/2020 07:46:17] \"\u001b[33mGET /favicon.ico HTTP/1.1\u001b[0m\" 404 -\n",
            "127.0.0.1 - - [10/Dec/2020 07:52:34] \"\u001b[32mPOST / HTTP/1.1\u001b[0m\" 302 -\n",
            "127.0.0.1 - - [10/Dec/2020 07:52:43] \"\u001b[37mGET /prediction/1_test_image.png HTTP/1.1\u001b[0m\" 200 -\n",
            "127.0.0.1 - - [10/Dec/2020 07:53:04] \"\u001b[37mGET / HTTP/1.1\u001b[0m\" 200 -\n",
            "127.0.0.1 - - [10/Dec/2020 07:56:27] \"\u001b[32mPOST / HTTP/1.1\u001b[0m\" 302 -\n",
            "127.0.0.1 - - [10/Dec/2020 07:56:27] \"\u001b[37mGET /prediction/1_test_image.png HTTP/1.1\u001b[0m\" 200 -\n",
            "127.0.0.1 - - [10/Dec/2020 07:56:40] \"\u001b[37mGET / HTTP/1.1\u001b[0m\" 200 -\n",
            "127.0.0.1 - - [10/Dec/2020 07:56:52] \"\u001b[32mPOST / HTTP/1.1\u001b[0m\" 302 -\n",
            "127.0.0.1 - - [10/Dec/2020 07:56:53] \"\u001b[37mGET /prediction/2_test_image.png HTTP/1.1\u001b[0m\" 200 -\n",
            "127.0.0.1 - - [10/Dec/2020 07:56:57] \"\u001b[37mGET /prediction/2_test_image.png HTTP/1.1\u001b[0m\" 200 -\n",
            "127.0.0.1 - - [10/Dec/2020 07:57:00] \"\u001b[37mGET /prediction/2_test_image.png HTTP/1.1\u001b[0m\" 200 -\n",
            "127.0.0.1 - - [10/Dec/2020 07:57:05] \"\u001b[37mGET /prediction/2_test_image.png HTTP/1.1\u001b[0m\" 200 -\n",
            "127.0.0.1 - - [10/Dec/2020 07:57:09] \"\u001b[37mGET /prediction/2_test_image.png HTTP/1.1\u001b[0m\" 200 -\n",
            "127.0.0.1 - - [10/Dec/2020 07:57:12] \"\u001b[37mGET / HTTP/1.1\u001b[0m\" 200 -\n",
            "127.0.0.1 - - [10/Dec/2020 07:57:20] \"\u001b[32mPOST / HTTP/1.1\u001b[0m\" 302 -\n",
            "127.0.0.1 - - [10/Dec/2020 07:57:20] \"\u001b[37mGET /prediction/2_test_image.png HTTP/1.1\u001b[0m\" 200 -\n",
            "127.0.0.1 - - [10/Dec/2020 07:58:07] \"\u001b[37mGET / HTTP/1.1\u001b[0m\" 200 -\n",
            "127.0.0.1 - - [10/Dec/2020 08:10:00] \"\u001b[32mPOST / HTTP/1.1\u001b[0m\" 302 -\n",
            "127.0.0.1 - - [10/Dec/2020 08:10:00] \"\u001b[37mGET /prediction/1_test_image.png HTTP/1.1\u001b[0m\" 200 -\n",
            "127.0.0.1 - - [10/Dec/2020 08:10:07] \"\u001b[37mGET /prediction/1_test_image.png HTTP/1.1\u001b[0m\" 200 -\n",
            "127.0.0.1 - - [10/Dec/2020 08:10:11] \"\u001b[37mGET / HTTP/1.1\u001b[0m\" 200 -\n",
            "127.0.0.1 - - [10/Dec/2020 08:10:21] \"\u001b[32mPOST / HTTP/1.1\u001b[0m\" 302 -\n",
            "127.0.0.1 - - [10/Dec/2020 08:10:21] \"\u001b[37mGET /prediction/1_test_image.png HTTP/1.1\u001b[0m\" 200 -\n",
            "127.0.0.1 - - [10/Dec/2020 08:10:42] \"\u001b[37mGET / HTTP/1.1\u001b[0m\" 200 -\n",
            "127.0.0.1 - - [10/Dec/2020 08:10:55] \"\u001b[32mPOST / HTTP/1.1\u001b[0m\" 302 -\n",
            "127.0.0.1 - - [10/Dec/2020 08:10:56] \"\u001b[37mGET /prediction/2_test_image.png HTTP/1.1\u001b[0m\" 200 -\n",
            "127.0.0.1 - - [10/Dec/2020 08:11:11] \"\u001b[37mGET / HTTP/1.1\u001b[0m\" 200 -\n",
            "127.0.0.1 - - [10/Dec/2020 08:11:17] \"\u001b[32mPOST / HTTP/1.1\u001b[0m\" 302 -\n",
            "127.0.0.1 - - [10/Dec/2020 08:11:18] \"\u001b[37mGET /prediction/2_test_image.png HTTP/1.1\u001b[0m\" 200 -\n",
            "127.0.0.1 - - [10/Dec/2020 08:19:25] \"\u001b[37mGET / HTTP/1.1\u001b[0m\" 200 -\n",
            "127.0.0.1 - - [10/Dec/2020 08:19:33] \"\u001b[37mGET / HTTP/1.1\u001b[0m\" 200 -\n",
            "127.0.0.1 - - [10/Dec/2020 08:22:38] \"\u001b[32mPOST / HTTP/1.1\u001b[0m\" 302 -\n",
            "127.0.0.1 - - [10/Dec/2020 08:22:38] \"\u001b[37mGET /prediction/1_test_image.png HTTP/1.1\u001b[0m\" 200 -\n",
            "127.0.0.1 - - [10/Dec/2020 08:22:46] \"\u001b[37mGET / HTTP/1.1\u001b[0m\" 200 -\n",
            "127.0.0.1 - - [10/Dec/2020 08:23:06] \"\u001b[32mPOST / HTTP/1.1\u001b[0m\" 302 -\n",
            "127.0.0.1 - - [10/Dec/2020 08:23:07] \"\u001b[37mGET /prediction/1_test_image.png HTTP/1.1\u001b[0m\" 200 -\n",
            "127.0.0.1 - - [10/Dec/2020 08:23:28] \"\u001b[37mGET / HTTP/1.1\u001b[0m\" 200 -\n",
            "127.0.0.1 - - [10/Dec/2020 08:23:36] \"\u001b[32mPOST / HTTP/1.1\u001b[0m\" 302 -\n",
            "127.0.0.1 - - [10/Dec/2020 08:23:37] \"\u001b[37mGET /prediction/2_test_image.png HTTP/1.1\u001b[0m\" 200 -\n",
            "127.0.0.1 - - [10/Dec/2020 08:23:41] \"\u001b[37mGET /prediction/2_test_image.png HTTP/1.1\u001b[0m\" 200 -\n",
            "127.0.0.1 - - [10/Dec/2020 08:23:47] \"\u001b[37mGET / HTTP/1.1\u001b[0m\" 200 -\n",
            "127.0.0.1 - - [10/Dec/2020 08:23:52] \"\u001b[32mPOST / HTTP/1.1\u001b[0m\" 302 -\n",
            "127.0.0.1 - - [10/Dec/2020 08:23:53] \"\u001b[37mGET /prediction/2_test_image.png HTTP/1.1\u001b[0m\" 200 -\n",
            "127.0.0.1 - - [10/Dec/2020 08:27:54] \"\u001b[37mGET / HTTP/1.1\u001b[0m\" 200 -\n",
            "127.0.0.1 - - [10/Dec/2020 08:27:59] \"\u001b[32mPOST / HTTP/1.1\u001b[0m\" 302 -\n",
            "127.0.0.1 - - [10/Dec/2020 08:27:59] \"\u001b[37mGET /prediction/1_test_image.png HTTP/1.1\u001b[0m\" 200 -\n",
            "127.0.0.1 - - [10/Dec/2020 08:28:04] \"\u001b[37mGET / HTTP/1.1\u001b[0m\" 200 -\n",
            "127.0.0.1 - - [10/Dec/2020 08:30:35] \"\u001b[37mGET / HTTP/1.1\u001b[0m\" 200 -\n",
            "127.0.0.1 - - [10/Dec/2020 08:31:17] \"\u001b[32mPOST / HTTP/1.1\u001b[0m\" 302 -\n",
            "127.0.0.1 - - [10/Dec/2020 08:31:17] \"\u001b[37mGET /prediction/1_test_image.png HTTP/1.1\u001b[0m\" 200 -\n",
            "127.0.0.1 - - [10/Dec/2020 08:31:52] \"\u001b[37mGET / HTTP/1.1\u001b[0m\" 200 -\n",
            "127.0.0.1 - - [10/Dec/2020 08:32:04] \"\u001b[32mPOST / HTTP/1.1\u001b[0m\" 302 -\n",
            "127.0.0.1 - - [10/Dec/2020 08:32:04] \"\u001b[37mGET /prediction/2_test_image.png HTTP/1.1\u001b[0m\" 200 -\n",
            "127.0.0.1 - - [10/Dec/2020 08:32:14] \"\u001b[37mGET / HTTP/1.1\u001b[0m\" 200 -\n",
            "127.0.0.1 - - [10/Dec/2020 08:32:33] \"\u001b[32mPOST / HTTP/1.1\u001b[0m\" 302 -\n",
            "127.0.0.1 - - [10/Dec/2020 08:32:33] \"\u001b[37mGET /prediction/2_test_image.png HTTP/1.1\u001b[0m\" 200 -\n",
            "127.0.0.1 - - [10/Dec/2020 08:35:11] \"\u001b[37mGET / HTTP/1.1\u001b[0m\" 200 -\n",
            "[2020-12-10 08:35:12,461] ERROR in app: Exception on / [POST]\n",
            "Traceback (most recent call last):\n",
            "  File \"/usr/local/lib/python3.6/dist-packages/flask/app.py\", line 2447, in wsgi_app\n",
            "    response = self.full_dispatch_request()\n",
            "  File \"/usr/local/lib/python3.6/dist-packages/flask/app.py\", line 1952, in full_dispatch_request\n",
            "    rv = self.handle_user_exception(e)\n",
            "  File \"/usr/local/lib/python3.6/dist-packages/flask/app.py\", line 1821, in handle_user_exception\n",
            "    reraise(exc_type, exc_value, tb)\n",
            "  File \"/usr/local/lib/python3.6/dist-packages/flask/_compat.py\", line 39, in reraise\n",
            "    raise value\n",
            "  File \"/usr/local/lib/python3.6/dist-packages/flask/app.py\", line 1950, in full_dispatch_request\n",
            "    rv = self.dispatch_request()\n",
            "  File \"/usr/local/lib/python3.6/dist-packages/flask/app.py\", line 1936, in dispatch_request\n",
            "    return self.view_functions[rule.endpoint](**req.view_args)\n",
            "  File \"<ipython-input-4-b1d4047e471d>\", line 37, in main_page\n",
            "    file.save(os.path.join('uploads', filename))\n",
            "  File \"/usr/local/lib/python3.6/dist-packages/werkzeug/datastructures.py\", line 3066, in save\n",
            "    dst = open(dst, \"wb\")\n",
            "IsADirectoryError: [Errno 21] Is a directory: 'uploads/'\n",
            "127.0.0.1 - - [10/Dec/2020 08:35:12] \"\u001b[35m\u001b[1mPOST / HTTP/1.1\u001b[0m\" 500 -\n",
            "127.0.0.1 - - [10/Dec/2020 08:35:19] \"\u001b[32mPOST / HTTP/1.1\u001b[0m\" 302 -\n",
            "127.0.0.1 - - [10/Dec/2020 08:35:20] \"\u001b[37mGET /prediction/1_test_image.png HTTP/1.1\u001b[0m\" 200 -\n",
            "127.0.0.1 - - [10/Dec/2020 08:35:25] \"\u001b[37mGET / HTTP/1.1\u001b[0m\" 200 -\n",
            "127.0.0.1 - - [10/Dec/2020 08:39:14] \"\u001b[32mPOST / HTTP/1.1\u001b[0m\" 302 -\n",
            "127.0.0.1 - - [10/Dec/2020 08:39:14] \"\u001b[37mGET /prediction/1_test_image.png HTTP/1.1\u001b[0m\" 200 -\n",
            "127.0.0.1 - - [10/Dec/2020 08:39:47] \"\u001b[37mGET / HTTP/1.1\u001b[0m\" 200 -\n",
            "127.0.0.1 - - [10/Dec/2020 08:39:59] \"\u001b[32mPOST / HTTP/1.1\u001b[0m\" 302 -\n",
            "127.0.0.1 - - [10/Dec/2020 08:39:59] \"\u001b[37mGET /prediction/2_test_image.png HTTP/1.1\u001b[0m\" 200 -\n",
            "127.0.0.1 - - [10/Dec/2020 08:40:05] \"\u001b[37mGET / HTTP/1.1\u001b[0m\" 200 -\n",
            "127.0.0.1 - - [10/Dec/2020 08:40:12] \"\u001b[32mPOST / HTTP/1.1\u001b[0m\" 302 -\n",
            "127.0.0.1 - - [10/Dec/2020 08:40:24] \"\u001b[37mGET /prediction/2_test_image.png HTTP/1.1\u001b[0m\" 200 -\n",
            "127.0.0.1 - - [10/Dec/2020 08:41:17] \"\u001b[37mGET / HTTP/1.1\u001b[0m\" 200 -\n",
            "127.0.0.1 - - [10/Dec/2020 08:41:27] \"\u001b[32mPOST / HTTP/1.1\u001b[0m\" 302 -\n",
            "127.0.0.1 - - [10/Dec/2020 08:41:27] \"\u001b[37mGET /prediction/1_test_image.png HTTP/1.1\u001b[0m\" 200 -\n",
            "127.0.0.1 - - [10/Dec/2020 08:41:32] \"\u001b[37mGET / HTTP/1.1\u001b[0m\" 200 -\n",
            "127.0.0.1 - - [10/Dec/2020 08:43:20] \"\u001b[32mPOST / HTTP/1.1\u001b[0m\" 302 -\n",
            "127.0.0.1 - - [10/Dec/2020 08:43:20] \"\u001b[37mGET /prediction/1_test_image.png HTTP/1.1\u001b[0m\" 200 -\n",
            "127.0.0.1 - - [10/Dec/2020 08:43:46] \"\u001b[37mGET / HTTP/1.1\u001b[0m\" 200 -\n",
            "127.0.0.1 - - [10/Dec/2020 08:43:52] \"\u001b[32mPOST / HTTP/1.1\u001b[0m\" 302 -\n",
            "127.0.0.1 - - [10/Dec/2020 08:43:53] \"\u001b[37mGET /prediction/2_test_image.png HTTP/1.1\u001b[0m\" 200 -\n",
            "127.0.0.1 - - [10/Dec/2020 08:43:58] \"\u001b[37mGET / HTTP/1.1\u001b[0m\" 200 -\n",
            "127.0.0.1 - - [10/Dec/2020 08:44:05] \"\u001b[32mPOST / HTTP/1.1\u001b[0m\" 302 -\n",
            "127.0.0.1 - - [10/Dec/2020 08:44:05] \"\u001b[37mGET /prediction/2_test_image.png HTTP/1.1\u001b[0m\" 200 -\n",
            "127.0.0.1 - - [10/Dec/2020 08:47:02] \"\u001b[37mGET / HTTP/1.1\u001b[0m\" 200 -\n",
            "[2020-12-10 08:47:03,538] ERROR in app: Exception on / [POST]\n",
            "Traceback (most recent call last):\n",
            "  File \"/usr/local/lib/python3.6/dist-packages/flask/app.py\", line 2447, in wsgi_app\n",
            "    response = self.full_dispatch_request()\n",
            "  File \"/usr/local/lib/python3.6/dist-packages/flask/app.py\", line 1952, in full_dispatch_request\n",
            "    rv = self.handle_user_exception(e)\n",
            "  File \"/usr/local/lib/python3.6/dist-packages/flask/app.py\", line 1821, in handle_user_exception\n",
            "    reraise(exc_type, exc_value, tb)\n",
            "  File \"/usr/local/lib/python3.6/dist-packages/flask/_compat.py\", line 39, in reraise\n",
            "    raise value\n",
            "  File \"/usr/local/lib/python3.6/dist-packages/flask/app.py\", line 1950, in full_dispatch_request\n",
            "    rv = self.dispatch_request()\n",
            "  File \"/usr/local/lib/python3.6/dist-packages/flask/app.py\", line 1936, in dispatch_request\n",
            "    return self.view_functions[rule.endpoint](**req.view_args)\n",
            "  File \"<ipython-input-4-b1d4047e471d>\", line 37, in main_page\n",
            "    file.save(os.path.join('uploads', filename))\n",
            "  File \"/usr/local/lib/python3.6/dist-packages/werkzeug/datastructures.py\", line 3066, in save\n",
            "    dst = open(dst, \"wb\")\n",
            "IsADirectoryError: [Errno 21] Is a directory: 'uploads/'\n",
            "127.0.0.1 - - [10/Dec/2020 08:47:03] \"\u001b[35m\u001b[1mPOST / HTTP/1.1\u001b[0m\" 500 -\n",
            "127.0.0.1 - - [10/Dec/2020 08:47:12] \"\u001b[32mPOST / HTTP/1.1\u001b[0m\" 302 -\n",
            "127.0.0.1 - - [10/Dec/2020 08:47:12] \"\u001b[37mGET /prediction/1_test_image.png HTTP/1.1\u001b[0m\" 200 -\n",
            "127.0.0.1 - - [10/Dec/2020 08:47:16] \"\u001b[37mGET / HTTP/1.1\u001b[0m\" 200 -\n",
            "127.0.0.1 - - [10/Dec/2020 08:48:57] \"\u001b[32mPOST / HTTP/1.1\u001b[0m\" 302 -\n",
            "127.0.0.1 - - [10/Dec/2020 08:48:57] \"\u001b[37mGET /prediction/1_test_image.png HTTP/1.1\u001b[0m\" 200 -\n",
            "127.0.0.1 - - [10/Dec/2020 08:49:27] \"\u001b[37mGET / HTTP/1.1\u001b[0m\" 200 -\n",
            "127.0.0.1 - - [10/Dec/2020 08:49:37] \"\u001b[32mPOST / HTTP/1.1\u001b[0m\" 302 -\n",
            "127.0.0.1 - - [10/Dec/2020 08:49:38] \"\u001b[37mGET /prediction/2_test_image.png HTTP/1.1\u001b[0m\" 200 -\n",
            "127.0.0.1 - - [10/Dec/2020 08:49:45] \"\u001b[37mGET / HTTP/1.1\u001b[0m\" 200 -\n",
            "127.0.0.1 - - [10/Dec/2020 08:49:54] \"\u001b[32mPOST / HTTP/1.1\u001b[0m\" 302 -\n",
            "127.0.0.1 - - [10/Dec/2020 08:49:54] \"\u001b[37mGET /prediction/2_test_image.png HTTP/1.1\u001b[0m\" 200 -\n",
            "127.0.0.1 - - [10/Dec/2020 08:52:21] \"\u001b[37mGET / HTTP/1.1\u001b[0m\" 200 -\n",
            "127.0.0.1 - - [10/Dec/2020 08:52:26] \"\u001b[32mPOST / HTTP/1.1\u001b[0m\" 302 -\n",
            "127.0.0.1 - - [10/Dec/2020 08:52:26] \"\u001b[37mGET /prediction/1_test_image.png HTTP/1.1\u001b[0m\" 200 -\n",
            "127.0.0.1 - - [10/Dec/2020 08:52:28] \"\u001b[37mGET / HTTP/1.1\u001b[0m\" 200 -\n",
            "127.0.0.1 - - [10/Dec/2020 08:57:32] \"\u001b[32mPOST / HTTP/1.1\u001b[0m\" 302 -\n",
            "127.0.0.1 - - [10/Dec/2020 08:57:32] \"\u001b[37mGET /prediction/1_test_image.png HTTP/1.1\u001b[0m\" 200 -\n",
            "127.0.0.1 - - [10/Dec/2020 08:58:08] \"\u001b[37mGET / HTTP/1.1\u001b[0m\" 200 -\n",
            "127.0.0.1 - - [10/Dec/2020 08:58:20] \"\u001b[32mPOST / HTTP/1.1\u001b[0m\" 302 -\n",
            "127.0.0.1 - - [10/Dec/2020 08:58:21] \"\u001b[37mGET /prediction/2_test_image.png HTTP/1.1\u001b[0m\" 200 -\n",
            "127.0.0.1 - - [10/Dec/2020 08:58:28] \"\u001b[37mGET / HTTP/1.1\u001b[0m\" 200 -\n",
            "127.0.0.1 - - [10/Dec/2020 08:58:35] \"\u001b[32mPOST / HTTP/1.1\u001b[0m\" 302 -\n",
            "127.0.0.1 - - [10/Dec/2020 08:58:36] \"\u001b[37mGET /prediction/2_test_image.png HTTP/1.1\u001b[0m\" 200 -\n"
          ],
          "name": "stderr"
        }
      ]
    }
  ]
}